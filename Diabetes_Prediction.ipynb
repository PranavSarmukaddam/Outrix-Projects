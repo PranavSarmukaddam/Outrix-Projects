{
 "cells": [
  {
   "cell_type": "code",
   "execution_count": 31,
   "id": "795057fc-74d0-436c-ae26-2d673adbc574",
   "metadata": {},
   "outputs": [],
   "source": [
    "# STEP 1: Import required libraries\n",
    "import pandas as pd\n",
    "import numpy as np\n",
    "import matplotlib.pyplot as plt\n",
    "from sklearn.model_selection import train_test_split\n",
    "from sklearn.preprocessing import StandardScaler\n",
    "from sklearn.linear_model import LogisticRegression\n",
    "from sklearn.metrics import confusion_matrix, accuracy_score, classification_report, ConfusionMatrixDisplay"
   ]
  },
  {
   "cell_type": "code",
   "execution_count": 32,
   "id": "d984202c-2e6b-47ec-ac93-092d48a38605",
   "metadata": {},
   "outputs": [],
   "source": [
    "# STEP 2: Load the dataset from Plotly\n",
    "url = \"https://raw.githubusercontent.com/plotly/datasets/master/diabetes.csv\"\n",
    "df = pd.read_csv(url)"
   ]
  },
  {
   "cell_type": "code",
   "execution_count": 33,
   "id": "c2c27c79-0b1f-44b0-8e50-49465c294435",
   "metadata": {},
   "outputs": [],
   "source": [
    "# STEP 3: Handle \"missing values\" coded as zero\n",
    "cols_with_zero_as_missing = ['Glucose', 'BloodPressure', 'SkinThickness', 'Insulin', 'BMI']\n",
    "for col in cols_with_zero_as_missing:\n",
    "    median = df[col].median()\n",
    "    df[col] = df[col].replace(0, median)"
   ]
  },
  {
   "cell_type": "code",
   "execution_count": 34,
   "id": "22838aa6-894b-4897-aef3-d7a6219fec41",
   "metadata": {},
   "outputs": [],
   "source": [
    "# STEP 4: Define features and label\n",
    "X = df.drop('Outcome', axis=1)\n",
    "y = df['Outcome']"
   ]
  },
  {
   "cell_type": "code",
   "execution_count": 35,
   "id": "c3367b3c-cdf7-402b-8ed8-d3b31a4ed83b",
   "metadata": {},
   "outputs": [],
   "source": [
    "# STEP 5: Split into training and test sets\n",
    "X_train, X_test, y_train, y_test = train_test_split(\n",
    "    X, y, test_size=0.2, random_state=1234)"
   ]
  },
  {
   "cell_type": "code",
   "execution_count": 36,
   "id": "d0467c20-ae89-44ae-8b97-59f50659f031",
   "metadata": {},
   "outputs": [],
   "source": [
    "# STEP 6: Feature scaling\n",
    "scaler = StandardScaler()\n",
    "X_train = scaler.fit_transform(X_train)\n",
    "X_test = scaler.transform(X_test)"
   ]
  },
  {
   "cell_type": "code",
   "execution_count": 37,
   "id": "b2c372b8-5740-4658-b2dc-cfbf83f179f8",
   "metadata": {},
   "outputs": [
    {
     "data": {
      "text/html": [
       "<style>#sk-container-id-4 {color: black;background-color: white;}#sk-container-id-4 pre{padding: 0;}#sk-container-id-4 div.sk-toggleable {background-color: white;}#sk-container-id-4 label.sk-toggleable__label {cursor: pointer;display: block;width: 100%;margin-bottom: 0;padding: 0.3em;box-sizing: border-box;text-align: center;}#sk-container-id-4 label.sk-toggleable__label-arrow:before {content: \"▸\";float: left;margin-right: 0.25em;color: #696969;}#sk-container-id-4 label.sk-toggleable__label-arrow:hover:before {color: black;}#sk-container-id-4 div.sk-estimator:hover label.sk-toggleable__label-arrow:before {color: black;}#sk-container-id-4 div.sk-toggleable__content {max-height: 0;max-width: 0;overflow: hidden;text-align: left;background-color: #f0f8ff;}#sk-container-id-4 div.sk-toggleable__content pre {margin: 0.2em;color: black;border-radius: 0.25em;background-color: #f0f8ff;}#sk-container-id-4 input.sk-toggleable__control:checked~div.sk-toggleable__content {max-height: 200px;max-width: 100%;overflow: auto;}#sk-container-id-4 input.sk-toggleable__control:checked~label.sk-toggleable__label-arrow:before {content: \"▾\";}#sk-container-id-4 div.sk-estimator input.sk-toggleable__control:checked~label.sk-toggleable__label {background-color: #d4ebff;}#sk-container-id-4 div.sk-label input.sk-toggleable__control:checked~label.sk-toggleable__label {background-color: #d4ebff;}#sk-container-id-4 input.sk-hidden--visually {border: 0;clip: rect(1px 1px 1px 1px);clip: rect(1px, 1px, 1px, 1px);height: 1px;margin: -1px;overflow: hidden;padding: 0;position: absolute;width: 1px;}#sk-container-id-4 div.sk-estimator {font-family: monospace;background-color: #f0f8ff;border: 1px dotted black;border-radius: 0.25em;box-sizing: border-box;margin-bottom: 0.5em;}#sk-container-id-4 div.sk-estimator:hover {background-color: #d4ebff;}#sk-container-id-4 div.sk-parallel-item::after {content: \"\";width: 100%;border-bottom: 1px solid gray;flex-grow: 1;}#sk-container-id-4 div.sk-label:hover label.sk-toggleable__label {background-color: #d4ebff;}#sk-container-id-4 div.sk-serial::before {content: \"\";position: absolute;border-left: 1px solid gray;box-sizing: border-box;top: 0;bottom: 0;left: 50%;z-index: 0;}#sk-container-id-4 div.sk-serial {display: flex;flex-direction: column;align-items: center;background-color: white;padding-right: 0.2em;padding-left: 0.2em;position: relative;}#sk-container-id-4 div.sk-item {position: relative;z-index: 1;}#sk-container-id-4 div.sk-parallel {display: flex;align-items: stretch;justify-content: center;background-color: white;position: relative;}#sk-container-id-4 div.sk-item::before, #sk-container-id-4 div.sk-parallel-item::before {content: \"\";position: absolute;border-left: 1px solid gray;box-sizing: border-box;top: 0;bottom: 0;left: 50%;z-index: -1;}#sk-container-id-4 div.sk-parallel-item {display: flex;flex-direction: column;z-index: 1;position: relative;background-color: white;}#sk-container-id-4 div.sk-parallel-item:first-child::after {align-self: flex-end;width: 50%;}#sk-container-id-4 div.sk-parallel-item:last-child::after {align-self: flex-start;width: 50%;}#sk-container-id-4 div.sk-parallel-item:only-child::after {width: 0;}#sk-container-id-4 div.sk-dashed-wrapped {border: 1px dashed gray;margin: 0 0.4em 0.5em 0.4em;box-sizing: border-box;padding-bottom: 0.4em;background-color: white;}#sk-container-id-4 div.sk-label label {font-family: monospace;font-weight: bold;display: inline-block;line-height: 1.2em;}#sk-container-id-4 div.sk-label-container {text-align: center;}#sk-container-id-4 div.sk-container {/* jupyter's `normalize.less` sets `[hidden] { display: none; }` but bootstrap.min.css set `[hidden] { display: none !important; }` so we also need the `!important` here to be able to override the default hidden behavior on the sphinx rendered scikit-learn.org. See: https://github.com/scikit-learn/scikit-learn/issues/21755 */display: inline-block !important;position: relative;}#sk-container-id-4 div.sk-text-repr-fallback {display: none;}</style><div id=\"sk-container-id-4\" class=\"sk-top-container\"><div class=\"sk-text-repr-fallback\"><pre>LogisticRegression()</pre><b>In a Jupyter environment, please rerun this cell to show the HTML representation or trust the notebook. <br />On GitHub, the HTML representation is unable to render, please try loading this page with nbviewer.org.</b></div><div class=\"sk-container\" hidden><div class=\"sk-item\"><div class=\"sk-estimator sk-toggleable\"><input class=\"sk-toggleable__control sk-hidden--visually\" id=\"sk-estimator-id-4\" type=\"checkbox\" checked><label for=\"sk-estimator-id-4\" class=\"sk-toggleable__label sk-toggleable__label-arrow\">LogisticRegression</label><div class=\"sk-toggleable__content\"><pre>LogisticRegression()</pre></div></div></div></div></div>"
      ],
      "text/plain": [
       "LogisticRegression()"
      ]
     },
     "execution_count": 37,
     "metadata": {},
     "output_type": "execute_result"
    }
   ],
   "source": [
    "# STEP 7: Train Logistic Regression model\n",
    "model = LogisticRegression()\n",
    "model.fit(X_train, y_train)"
   ]
  },
  {
   "cell_type": "code",
   "execution_count": 38,
   "id": "2f91a41c-9a4d-4a6a-9a28-7abce7e32e0a",
   "metadata": {},
   "outputs": [
    {
     "name": "stdout",
     "output_type": "stream",
     "text": [
      "Model Accuracy: 0.77\n",
      "\n",
      "Classification Report:\n",
      "              precision    recall  f1-score   support\n",
      "\n",
      "Non-Diabetic       0.78      0.90      0.84        99\n",
      "    Diabetic       0.75      0.55      0.63        55\n",
      "\n",
      "    accuracy                           0.77       154\n",
      "   macro avg       0.77      0.72      0.73       154\n",
      "weighted avg       0.77      0.77      0.76       154\n",
      "\n"
     ]
    }
   ],
   "source": [
    "# STEP 8: Evaluate model\n",
    "y_pred = model.predict(X_test)\n",
    "acc = accuracy_score(y_test, y_pred)\n",
    "print(f\"Model Accuracy: {acc:.2f}\")\n",
    "print(\"\\nClassification Report:\")\n",
    "print(classification_report(y_test, y_pred, target_names=[\"Non-Diabetic\", \"Diabetic\"]))"
   ]
  },
  {
   "cell_type": "code",
   "execution_count": 39,
   "id": "2cee1f75-2900-42f9-9573-83b4997e9d4c",
   "metadata": {},
   "outputs": [
    {
     "data": {
      "image/png": "[encoded data removed]",
      "text/plain": [
       "<Figure size 640x480 with 2 Axes>"
      ]
     },
     "metadata": {},
     "output_type": "display_data"
    }
   ],
   "source": [
    "# STEP 9: Plot confusion matrix\n",
    "cm = confusion_matrix(y_test, y_pred)\n",
    "disp = ConfusionMatrixDisplay(confusion_matrix=cm, display_labels=[\"Non-Diabetic\", \"Diabetic\"])\n",
    "disp.plot(cmap=plt.cm.Blues)\n",
    "plt.title(\"Confusion Matrix\")\n",
    "plt.show()"
   ]
  },
  {
   "cell_type": "code",
   "execution_count": 40,
   "id": "91fb5921-0dfa-4559-af60-2b800e3ad68a",
   "metadata": {},
   "outputs": [
    {
     "name": "stdin",
     "output_type": "stream",
     "text": [
      "Enter number of pregnancies (0 to 17):  9\n",
      "Enter glucose level (44 to 199):  155\n",
      "Enter blood pressure (24 to 122):  90\n",
      "Enter skin thickness (7 to 99):  56\n",
      "Enter insulin level (14.0 to 846.0):  344\n",
      "Enter BMI (18.2 to 67.1):  34\n",
      "Enter diabetes pedigree function (0.078 to 2.42):  0.090\n",
      "Enter age (21 to 81):  33\n"
     ]
    },
    {
     "name": "stdout",
     "output_type": "stream",
     "text": [
      "\n",
      "Prediction: Diabetic\n"
     ]
    }
   ],
   "source": [
    "# Step 10: Take user input with ranges\n",
    "\n",
    "# Get feature ranges from dataset\n",
    "feature_ranges = {\n",
    "    col: (df[col].min(), df[col].max())\n",
    "    for col in ['Pregnancies', 'Glucose', 'BloodPressure', 'SkinThickness', \n",
    "                'Insulin', 'BMI', 'DiabetesPedigreeFunction', 'Age']\n",
    "}\n",
    "\n",
    "# User inputs (simpler style, but same output)\n",
    "Pregnancies = int(input(f\"Enter number of pregnancies ({feature_ranges['Pregnancies'][0]} to {feature_ranges['Pregnancies'][1]}): \"))\n",
    "Glucose = float(input(f\"Enter glucose level ({feature_ranges['Glucose'][0]} to {feature_ranges['Glucose'][1]}): \"))\n",
    "BloodPressure = float(input(f\"Enter blood pressure ({feature_ranges['BloodPressure'][0]} to {feature_ranges['BloodPressure'][1]}): \"))\n",
    "SkinThickness = float(input(f\"Enter skin thickness ({feature_ranges['SkinThickness'][0]} to {feature_ranges['SkinThickness'][1]}): \"))\n",
    "Insulin = float(input(f\"Enter insulin level ({feature_ranges['Insulin'][0]} to {feature_ranges['Insulin'][1]}): \"))\n",
    "BMI = float(input(f\"Enter BMI ({feature_ranges['BMI'][0]} to {feature_ranges['BMI'][1]}): \"))\n",
    "DiabetesPedigreeFunction = float(input(f\"Enter diabetes pedigree function ({feature_ranges['DiabetesPedigreeFunction'][0]} to {feature_ranges['DiabetesPedigreeFunction'][1]}): \"))\n",
    "Age = int(input(f\"Enter age ({feature_ranges['Age'][0]} to {feature_ranges['Age'][1]}): \"))\n",
    "\n",
    "# Prepare input for prediction with correct feature names\n",
    "columns = ['Pregnancies', 'Glucose', 'BloodPressure', 'SkinThickness', \n",
    "           'Insulin', 'BMI', 'DiabetesPedigreeFunction', 'Age']\n",
    "\n",
    "user_data_df = pd.DataFrame([[Pregnancies, Glucose, BloodPressure, SkinThickness,\n",
    "                               Insulin, BMI, DiabetesPedigreeFunction, Age]],\n",
    "                             columns=columns)\n",
    "\n",
    "# Scale the input data\n",
    "user_data_scaled = scaler.transform(user_data_df)\n",
    "\n",
    "# Prediction\n",
    "pred = model.predict(user_data_scaled)[0]\n",
    "print(\"\\nPrediction:\", \"Diabetic\" if pred == 1 else \"Non-Diabetic\")"
   ]
  }
 ],
 "metadata": {
  "kernelspec": {
   "display_name": "Python 3 (ipykernel)",
   "language": "python",
   "name": "python3"
  },
  "language_info": {
   "codemirror_mode": {
    "name": "ipython",
    "version": 3
   },
   "file_extension": ".py",
   "mimetype": "text/x-python",
   "name": "python",
   "nbconvert_exporter": "python",
   "pygments_lexer": "ipython3",
   "version": "3.11.7"
  }
 },
 "nbformat": 4,
 "nbformat_minor": 5
}
